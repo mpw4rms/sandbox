{
 "cells": [
  {
   "cell_type": "markdown",
   "metadata": {
    "collapsed": true
   },
   "source": [
    "# Extract 2D Area Cells from HEC-RAS .HDF files for all plans in a directory"
   ]
  },
  {
   "cell_type": "markdown",
   "metadata": {},
   "source": [
    "Created on Wed Aug 19 13:47:47 2015\n",
    "@author: mwarms\n",
    "\n",
    "This code can be used to extract data from HEC-RAS 2D area cells of interest for all plans--specifically the maximum water surface. Useful when there are numerous plans--in this case an incremental hazard analysis was performed, so ~50 plans were run overnight. "
   ]
  },
  {
   "cell_type": "code",
   "execution_count": 21,
   "metadata": {
    "collapsed": true
   },
   "outputs": [],
   "source": [
    "import pandas as ps # useful databases/arrays for storing data\n",
    "import h5py         # read HEC-RAS HDF files (pandas HDFStore does not work)           \n",
    "import os as os     # windows operating system  "
   ]
  },
  {
   "cell_type": "code",
   "execution_count": 22,
   "metadata": {
    "collapsed": true
   },
   "outputs": [],
   "source": [
    "# initialize data frame in which to store data (in this case we want maximum WSE and time):\n",
    "MaxWSE = ps.DataFrame()\n",
    "MaxWSEtime = ps.DataFrame()  # <-- this is unnecessary if you do not want the time at which the peak occurs"
   ]
  },
  {
   "cell_type": "code",
   "execution_count": 23,
   "metadata": {
    "collapsed": false
   },
   "outputs": [],
   "source": [
    "# initialize path variable:\n",
    "path = \"C:\\users\\mwarms\\documents\\USSD Conference 2016\\RAS HDFs\"\n"
   ]
  },
  {
   "cell_type": "code",
   "execution_count": 24,
   "metadata": {
    "collapsed": false
   },
   "outputs": [
    {
     "data": {
      "text/plain": [
       "[u'Event Conditions', u'Geometry', u'Plan Data', u'Results']"
      ]
     },
     "execution_count": 24,
     "metadata": {},
     "output_type": "execute_result"
    }
   ],
   "source": [
    "# initialize HDFkey (i.e. path to desired variable in HDF file):\n",
    "    # to determine the key, you can either view the HDF manually or open the HDF\n",
    "    # using h5py (see below) and use the h5py.keys() function (e.g. f_temp.keys())\n",
    "\n",
    "example_h5py_file = h5py.File(path + \"\\NineMileDamBreach.p01.hdf\")\n",
    "example_h5py_file.keys()"
   ]
  },
  {
   "cell_type": "code",
   "execution_count": 25,
   "metadata": {
    "collapsed": false
   },
   "outputs": [
    {
     "data": {
      "text/plain": [
       "[u'Summary', u'Unsteady']"
      ]
     },
     "execution_count": 25,
     "metadata": {},
     "output_type": "execute_result"
    }
   ],
   "source": [
    "example_h5py_file['Results'].keys()"
   ]
  },
  {
   "cell_type": "code",
   "execution_count": 26,
   "metadata": {
    "collapsed": false
   },
   "outputs": [
    {
     "data": {
      "text/plain": [
       "[u'Geometry Info', u'Output', u'Summary']"
      ]
     },
     "execution_count": 26,
     "metadata": {},
     "output_type": "execute_result"
    }
   ],
   "source": [
    "example_h5py_file['Results/Unsteady'].keys()"
   ]
  },
  {
   "cell_type": "code",
   "execution_count": 27,
   "metadata": {
    "collapsed": true
   },
   "outputs": [],
   "source": [
    "# continue this logic until you reach the key that you want. Again, this can be done in python or viewing the HDF file manually.\n",
    "\n",
    "HDFkey = '/Results/Unsteady/Output/Output Blocks/Base Output/Summary Output/2D Flow Areas/Long Lake & L.S./Maximum Water Surface'"
   ]
  },
  {
   "cell_type": "code",
   "execution_count": 28,
   "metadata": {
    "collapsed": false
   },
   "outputs": [],
   "source": [
    "# initialize HEC-RAS project name:\n",
    "HECRASProject = \"NineMileDamBreach\""
   ]
  },
  {
   "cell_type": "code",
   "execution_count": 29,
   "metadata": {
    "collapsed": false
   },
   "outputs": [
    {
     "data": {
      "text/plain": [
       "8912"
      ]
     },
     "execution_count": 29,
     "metadata": {},
     "output_type": "execute_result"
    }
   ],
   "source": [
    "# initialize total number of 2D area cells (array 0 = max wse data, 1 = time which max occurs), both will be the same size: \n",
    "TotNumCells = example_h5py_file[HDFkey][0].size\n",
    "example_h5py_file.close()\n",
    "TotNumCells"
   ]
  },
  {
   "cell_type": "code",
   "execution_count": 34,
   "metadata": {
    "collapsed": false,
    "scrolled": false
   },
   "outputs": [],
   "source": [
    "# Loop through HDF plan files and extract Max WSE for all cells\n",
    "os.chdir(path)  # <--necessary when your ipynb is not in the same folder as the data you care about\n",
    "\n",
    "i = 0\n",
    "for file in os.listdir(path):\n",
    "    if file.endswith(\".hdf\") and file.startswith(HECRASProject + \".p\"):\n",
    "        f_temp = h5py.File(file)\n",
    "        d_temp = f_temp[HDFkey][:]    \n",
    "        MaxWSE[i] = ps.Series(d_temp[0,0:TotNumCells])\n",
    "        MaxWSEtime[i] = ps.Series(d_temp[1,0:TotNumCells])\n",
    "        i+=1 "
   ]
  },
  {
   "cell_type": "code",
   "execution_count": 36,
   "metadata": {
    "collapsed": false
   },
   "outputs": [
    {
     "data": {
      "text/plain": [
       "60"
      ]
     },
     "execution_count": 36,
     "metadata": {},
     "output_type": "execute_result"
    }
   ],
   "source": [
    "# initialize variable for total number of plans\n",
    "TotalPlans = i\n",
    "TotalPlans"
   ]
  },
  {
   "cell_type": "code",
   "execution_count": 37,
   "metadata": {
    "collapsed": false
   },
   "outputs": [],
   "source": [
    "# Which cells do we care about in the 2D Area? (Upstream to Downstream)\n",
    "SelectedCells = [5036,3996,3695,3421,3260,2923,2485,2056,1542,930,855,784,\n",
    "                 590,366,313,403,448,614,943,1480,1990,2086,1976,1870,1555] "
   ]
  },
  {
   "cell_type": "code",
   "execution_count": 38,
   "metadata": {
    "collapsed": false
   },
   "outputs": [],
   "source": [
    "# HEC-RAS plan numbers belonging to each geometry (13 excluded--not used)\n",
    "#    Note: This is only necessary if you have multiple geometries \n",
    "#    Normally, you could use this line:\n",
    "#    Plans = range(1,TotalPlans+1)\n",
    "HighScourPlans = sorted([16,2,5,4,9,8,6,12,11,10,15,14])\n",
    "MedScourPlans = sorted([17,3,18,20,22,24,26,28,30,32,34,36])\n",
    "LowScourPlans = sorted([1,7,19,21,23,25,27,29,31,33,35,37])\n",
    "IHAPlans = [13,38,39,40,42,43,44,45,46,47,48,49,50,51,52,53,54,55,56,57,58,59]\n"
   ]
  },
  {
   "cell_type": "code",
   "execution_count": 39,
   "metadata": {
    "collapsed": false
   },
   "outputs": [],
   "source": [
    "# Query MaxWSE data to extract just the cells we are interested in. Again, \n",
    "#    since we have 3 different geometries, the selected cells change depending\n",
    "#    on the plan\n",
    "CellsMaxWSEHighScour = ps.DataFrame()  # initialize data frame in which to store data\n",
    "CellsMaxWSEMedScour = ps.DataFrame()   # initialize data frame in which to store data\n",
    "CellsMaxWSELowScour = ps.DataFrame()   # initialize data frame in which to store data\n",
    "CellsMaxWSEIHA = ps.DataFrame()        # initialize data frame in which to store data"
   ]
  },
  {
   "cell_type": "code",
   "execution_count": 41,
   "metadata": {
    "collapsed": false
   },
   "outputs": [],
   "source": [
    "# Loop through plans to populate the different dataframes (mult. by 24 to convert to hours)\n",
    "for j in range(1,TotalPlans+1):\n",
    "    if j in HighScourPlans:\n",
    "        CellsMaxWSEHighScour[0,j] = MaxWSE[j-1].iloc[SelectedCells[:]]\n",
    "        CellsMaxWSEHighScour[1,j] = MaxWSEtime[j-1].iloc[SelectedCells[:]]*24\n",
    "    elif j in MedScourPlans:\n",
    "        CellsMaxWSEMedScour[0,j] = MaxWSE[j-1].iloc[SelectedCells[:]]\n",
    "        CellsMaxWSEMedScour[1,j] = MaxWSEtime[j-1].iloc[SelectedCells[:]]*24\n",
    "    elif j in LowScourPlans:\n",
    "        CellsMaxWSELowScour[0,j] = MaxWSE[j-1].iloc[SelectedCells[:]]\n",
    "        CellsMaxWSELowScour[1,j] = MaxWSEtime[j-1].iloc[SelectedCells[:]]*24\n",
    "    elif j in IHAPlans:\n",
    "        CellsMaxWSEIHA[0,j] = MaxWSE[j-1].iloc[SelectedCells[:]]\n",
    "        CellsMaxWSEIHA[1,j] = MaxWSEtime[j-1].iloc[SelectedCells[:]]*24"
   ]
  },
  {
   "cell_type": "code",
   "execution_count": 42,
   "metadata": {
    "collapsed": false
   },
   "outputs": [],
   "source": [
    "# Write Extracted output to excel spreadsheet or csv:\n",
    "  # Excel example (not used) below:   \n",
    "  #    writer = ps.ExcelWriter('IncrementalHazardAnalysis.xlsx')\n",
    "  #    CellsMaxWSEHighScour.to_excel(writer,'HighScourPlans')\n",
    "  #    CellsMaxWSEMedScour.to_excel(writer,'MedScourPlans')\n",
    "  #    CellsMaxWSELowScour.to_excel(writer,'LowScourPlans')\n",
    "  #    writer.save()\n",
    "CellsMaxWSEHighScour.to_csv('HighScour.csv', sep=',')\n",
    "CellsMaxWSEMedScour.to_csv('MedScour.csv', sep=',')\n",
    "CellsMaxWSELowScour.to_csv('LowScour.csv', sep=',')\n",
    "CellsMaxWSEIHA.to_csv('IHA.csv', sep=',')"
   ]
  },
  {
   "cell_type": "code",
   "execution_count": null,
   "metadata": {
    "collapsed": true
   },
   "outputs": [],
   "source": []
  }
 ],
 "metadata": {
  "kernelspec": {
   "display_name": "Python 2",
   "language": "python",
   "name": "python2"
  },
  "language_info": {
   "codemirror_mode": {
    "name": "ipython",
    "version": 2
   },
   "file_extension": ".py",
   "mimetype": "text/x-python",
   "name": "python",
   "nbconvert_exporter": "python",
   "pygments_lexer": "ipython2",
   "version": "2.7.10"
  }
 },
 "nbformat": 4,
 "nbformat_minor": 0
}
